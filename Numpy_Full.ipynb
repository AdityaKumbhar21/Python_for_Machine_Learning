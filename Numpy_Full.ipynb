{
  "nbformat": 4,
  "nbformat_minor": 0,
  "metadata": {
    "colab": {
      "provenance": [],
      "authorship_tag": "ABX9TyNkpyYxYyxz+vFRI9SY84gO",
      "include_colab_link": true
    },
    "kernelspec": {
      "name": "python3",
      "display_name": "Python 3"
    },
    "language_info": {
      "name": "python"
    }
  },
  "cells": [
    {
      "cell_type": "markdown",
      "metadata": {
        "id": "view-in-github",
        "colab_type": "text"
      },
      "source": [
        "<a href=\"https://colab.research.google.com/github/AdityaKumbhar21/Python_for_Machine_Learning/blob/main/Numpy_Full.ipynb\" target=\"_parent\"><img src=\"https://colab.research.google.com/assets/colab-badge.svg\" alt=\"Open In Colab\"/></a>"
      ]
    },
    {
      "cell_type": "markdown",
      "source": [
        "Numpy Arrays"
      ],
      "metadata": {
        "id": "gonl7gasfg6S"
      }
    },
    {
      "cell_type": "markdown",
      "source": [
        "Importing Numpy"
      ],
      "metadata": {
        "id": "cLrlpaqGfj-a"
      }
    },
    {
      "cell_type": "code",
      "execution_count": 1,
      "metadata": {
        "id": "fqMD_PYddaL7"
      },
      "outputs": [],
      "source": [
        "import numpy as np"
      ]
    },
    {
      "cell_type": "markdown",
      "source": [
        "Creating a numpy array"
      ],
      "metadata": {
        "id": "GAC8XTN_fn1g"
      }
    },
    {
      "cell_type": "code",
      "source": [
        "a = np.array([1,2,3,4])\n",
        "print(a)\n",
        "type(a)"
      ],
      "metadata": {
        "colab": {
          "base_uri": "https://localhost:8080/"
        },
        "id": "9hSN6n07fmuv",
        "outputId": "de3f0f83-3dfa-41ca-a16c-641ccffe15e1"
      },
      "execution_count": 3,
      "outputs": [
        {
          "output_type": "stream",
          "name": "stdout",
          "text": [
            "[1 2 3 4]\n"
          ]
        },
        {
          "output_type": "execute_result",
          "data": {
            "text/plain": [
              "numpy.ndarray"
            ]
          },
          "metadata": {},
          "execution_count": 3
        }
      ]
    },
    {
      "cell_type": "markdown",
      "source": [
        "Creating multidimesional Array"
      ],
      "metadata": {
        "id": "eVPkzBdxf1bR"
      }
    },
    {
      "cell_type": "code",
      "source": [
        "one_dim = np.array([1,2,3,4])\n",
        "print(one_dim)\n",
        "one_dim.shape  # describes the shape/dimesion of the array"
      ],
      "metadata": {
        "colab": {
          "base_uri": "https://localhost:8080/"
        },
        "id": "eLY_468cfxC1",
        "outputId": "23d5cfe0-6fa2-4730-ef0d-9910799be038"
      },
      "execution_count": 5,
      "outputs": [
        {
          "output_type": "stream",
          "name": "stdout",
          "text": [
            "[1 2 3 4]\n"
          ]
        },
        {
          "output_type": "execute_result",
          "data": {
            "text/plain": [
              "(4,)"
            ]
          },
          "metadata": {},
          "execution_count": 5
        }
      ]
    },
    {
      "cell_type": "code",
      "source": [
        "two_dim = np.array([[1,2,3,4],[5,6,7,8]])\n",
        "print(two_dim)\n",
        "two_dim.shape"
      ],
      "metadata": {
        "colab": {
          "base_uri": "https://localhost:8080/"
        },
        "id": "i0v-qluJgDjt",
        "outputId": "2bf7d91f-afef-44d6-a6b1-a2705e5b1b06"
      },
      "execution_count": 8,
      "outputs": [
        {
          "output_type": "stream",
          "name": "stdout",
          "text": [
            "[[1 2 3 4]\n",
            " [5 6 7 8]]\n"
          ]
        },
        {
          "output_type": "execute_result",
          "data": {
            "text/plain": [
              "(2, 4)"
            ]
          },
          "metadata": {},
          "execution_count": 8
        }
      ]
    },
    {
      "cell_type": "markdown",
      "source": [
        "Initial Placeholder value arrays"
      ],
      "metadata": {
        "id": "D6i_JDwXhrcr"
      }
    },
    {
      "cell_type": "markdown",
      "source": [
        "Null Array"
      ],
      "metadata": {
        "id": "Z-h_fiTthvv_"
      }
    },
    {
      "cell_type": "code",
      "source": [
        "null_array = np.zeros((3,4))\n",
        "print(null_array)"
      ],
      "metadata": {
        "colab": {
          "base_uri": "https://localhost:8080/"
        },
        "id": "9Gcnr7ungPXM",
        "outputId": "97e2f3ab-b206-4b56-c5b6-5821e0a06e32"
      },
      "execution_count": 10,
      "outputs": [
        {
          "output_type": "stream",
          "name": "stdout",
          "text": [
            "[[0. 0. 0. 0.]\n",
            " [0. 0. 0. 0.]\n",
            " [0. 0. 0. 0.]]\n"
          ]
        }
      ]
    },
    {
      "cell_type": "markdown",
      "source": [
        "All 1's array"
      ],
      "metadata": {
        "id": "kVxbWpzfh7rR"
      }
    },
    {
      "cell_type": "code",
      "source": [
        "ones_array = np.ones((3,6)) # by default it will create all values with floating point\n",
        "ones_array = np.ones((3,6), dtype = int)\n",
        "print(ones_array)"
      ],
      "metadata": {
        "colab": {
          "base_uri": "https://localhost:8080/"
        },
        "id": "o4FXyQoSh3FN",
        "outputId": "45973940-e6ea-43ca-a5f2-df0b93448d66"
      },
      "execution_count": 12,
      "outputs": [
        {
          "output_type": "stream",
          "name": "stdout",
          "text": [
            "[[1 1 1 1 1 1]\n",
            " [1 1 1 1 1 1]\n",
            " [1 1 1 1 1 1]]\n"
          ]
        }
      ]
    },
    {
      "cell_type": "markdown",
      "source": [
        "Creating identity matrix"
      ],
      "metadata": {
        "id": "12tEomMBiPrG"
      }
    },
    {
      "cell_type": "code",
      "source": [
        "identity_matrix = np.eye(7, dtype = int)\n",
        "print(identity_matrix)"
      ],
      "metadata": {
        "colab": {
          "base_uri": "https://localhost:8080/"
        },
        "id": "NVtufz1HiCH3",
        "outputId": "3d33fc99-8020-4d19-d065-1fda04c8968d"
      },
      "execution_count": 15,
      "outputs": [
        {
          "output_type": "stream",
          "name": "stdout",
          "text": [
            "[[1 0 0 0 0 0 0]\n",
            " [0 1 0 0 0 0 0]\n",
            " [0 0 1 0 0 0 0]\n",
            " [0 0 0 1 0 0 0]\n",
            " [0 0 0 0 1 0 0]\n",
            " [0 0 0 0 0 1 0]\n",
            " [0 0 0 0 0 0 1]]\n"
          ]
        }
      ]
    },
    {
      "cell_type": "markdown",
      "source": [
        "Creating array with random values"
      ],
      "metadata": {
        "id": "euucQZPGicz3"
      }
    },
    {
      "cell_type": "code",
      "source": [
        "random_array = np.random.random((3,4))\n",
        "print(random_array)"
      ],
      "metadata": {
        "colab": {
          "base_uri": "https://localhost:8080/"
        },
        "id": "O9_fCxioiZLM",
        "outputId": "e96141f8-eeba-4d33-d85b-4857ae945f7c"
      },
      "execution_count": 16,
      "outputs": [
        {
          "output_type": "stream",
          "name": "stdout",
          "text": [
            "[[0.58586178 0.46888184 0.88545387 0.92923253]\n",
            " [0.3573598  0.87138781 0.18581097 0.78527557]\n",
            " [0.05670326 0.73342431 0.57141443 0.69952066]]\n"
          ]
        }
      ]
    },
    {
      "cell_type": "code",
      "source": [
        "# creating random integer array within a  range\n",
        "random_int_array = np.random.randint(1,10, (3,7))\n",
        "print(random_int_array)"
      ],
      "metadata": {
        "colab": {
          "base_uri": "https://localhost:8080/"
        },
        "id": "AwdqoqjlinUP",
        "outputId": "1b972c72-0753-409e-8c21-c01c2f75d263"
      },
      "execution_count": 18,
      "outputs": [
        {
          "output_type": "stream",
          "name": "stdout",
          "text": [
            "[[1 3 5 3 7 5 5]\n",
            " [1 6 7 7 3 5 1]\n",
            " [8 2 7 4 2 3 5]]\n"
          ]
        }
      ]
    },
    {
      "cell_type": "markdown",
      "source": [
        "Creating array with evenly spaced values"
      ],
      "metadata": {
        "id": "RrxI4hdDi-66"
      }
    },
    {
      "cell_type": "code",
      "source": [
        "evenly_spaced_array = np.linspace(10,30,6,dtype=int) # 6 is the number of elements we want\n",
        "print(evenly_spaced_array)"
      ],
      "metadata": {
        "colab": {
          "base_uri": "https://localhost:8080/"
        },
        "id": "OJuy_8yli4_f",
        "outputId": "7b06cb6b-2727-4a42-8e0d-300826cdc546"
      },
      "execution_count": 21,
      "outputs": [
        {
          "output_type": "stream",
          "name": "stdout",
          "text": [
            "[10 14 18 22 26 30]\n"
          ]
        }
      ]
    },
    {
      "cell_type": "markdown",
      "source": [
        "Array functions"
      ],
      "metadata": {
        "id": "XRct3w6rk-rz"
      }
    },
    {
      "cell_type": "code",
      "source": [
        "array1 = np.random.randint(1,10, (3,4))"
      ],
      "metadata": {
        "id": "Kry9q1BMkzRN"
      },
      "execution_count": 24,
      "outputs": []
    },
    {
      "cell_type": "code",
      "source": [
        "# checking the size of the array\n",
        "print(array1.size)\n",
        "\n",
        "# checking the shape of the array\n",
        "print(array1.shape)\n",
        "\n",
        "# checking the dimesion of the array\n",
        "print(array1.ndim)\n",
        "\n"
      ],
      "metadata": {
        "colab": {
          "base_uri": "https://localhost:8080/"
        },
        "id": "CMD2mY4_lH3O",
        "outputId": "d8bb18bd-08a7-4966-9d0c-aa10a8467b78"
      },
      "execution_count": 26,
      "outputs": [
        {
          "output_type": "stream",
          "name": "stdout",
          "text": [
            "12\n",
            "(3, 4)\n",
            "2\n"
          ]
        }
      ]
    },
    {
      "cell_type": "markdown",
      "source": [
        "Array operations"
      ],
      "metadata": {
        "id": "F2IvunK0lqf-"
      }
    },
    {
      "cell_type": "code",
      "source": [
        "array_1 = np.random.randint(1,10, (3,2))\n",
        "array_2 = np.random.randint(1,10, (3,2))\n",
        "print(array_1)\n",
        "print()\n",
        "print(array_2)"
      ],
      "metadata": {
        "colab": {
          "base_uri": "https://localhost:8080/"
        },
        "id": "N0Y-36_flib2",
        "outputId": "fae129f8-3967-47f8-ed03-9fe3beb0f3f9"
      },
      "execution_count": 32,
      "outputs": [
        {
          "output_type": "stream",
          "name": "stdout",
          "text": [
            "[[1 2]\n",
            " [9 9]\n",
            " [5 6]]\n",
            "\n",
            "[[6 6]\n",
            " [7 9]\n",
            " [5 6]]\n"
          ]
        }
      ]
    },
    {
      "cell_type": "code",
      "source": [
        "print(np.add(array_1, array_2))\n",
        "print()\n",
        "print(np.subtract(array_1, array_2))\n",
        "print()\n",
        "print(np.multiply(array_1, array_2))\n",
        "print()\n",
        "print(np.divide(array_1, array_2))"
      ],
      "metadata": {
        "colab": {
          "base_uri": "https://localhost:8080/"
        },
        "id": "_PeBFskcl1t3",
        "outputId": "7e75a80b-3360-46db-acb3-05face7b9e5c"
      },
      "execution_count": 33,
      "outputs": [
        {
          "output_type": "stream",
          "name": "stdout",
          "text": [
            "[[ 7  8]\n",
            " [16 18]\n",
            " [10 12]]\n",
            "\n",
            "[[-5 -4]\n",
            " [ 2  0]\n",
            " [ 0  0]]\n",
            "\n",
            "[[ 6 12]\n",
            " [63 81]\n",
            " [25 36]]\n",
            "\n",
            "[[0.16666667 0.33333333]\n",
            " [1.28571429 1.        ]\n",
            " [1.         1.        ]]\n"
          ]
        }
      ]
    },
    {
      "cell_type": "markdown",
      "source": [
        "Array Manipulation"
      ],
      "metadata": {
        "id": "uUgUQjDrmJ7D"
      }
    },
    {
      "cell_type": "code",
      "source": [
        "#transpose of an array\n",
        "transpose_array_1 = array_1.transpose()\n",
        "print(transpose_array_1)"
      ],
      "metadata": {
        "colab": {
          "base_uri": "https://localhost:8080/"
        },
        "id": "sBS_dO6al-t2",
        "outputId": "5b463ddc-b45c-4cb9-e5bc-26650d238399"
      },
      "execution_count": 34,
      "outputs": [
        {
          "output_type": "stream",
          "name": "stdout",
          "text": [
            "[[1 9 5]\n",
            " [2 9 6]]\n"
          ]
        }
      ]
    },
    {
      "cell_type": "code",
      "source": [
        "# Another method of transpose\n",
        "transpose_array_1 = array_1.T\n",
        "print(transpose_array_1)"
      ],
      "metadata": {
        "colab": {
          "base_uri": "https://localhost:8080/"
        },
        "id": "VAK6BuaxmVfN",
        "outputId": "1ad3fa43-9c23-4fb9-cb80-e5102aba7b6a"
      },
      "execution_count": 35,
      "outputs": [
        {
          "output_type": "stream",
          "name": "stdout",
          "text": [
            "[[1 9 5]\n",
            " [2 9 6]]\n"
          ]
        }
      ]
    },
    {
      "cell_type": "code",
      "source": [
        "# Reshaping the array\n",
        "reshaped_array = array_1.reshape(3,2)\n",
        "print(reshaped_array)"
      ],
      "metadata": {
        "colab": {
          "base_uri": "https://localhost:8080/"
        },
        "id": "OKyp97gjmlEp",
        "outputId": "4196fa19-4e43-4822-d5bd-850b0c788075"
      },
      "execution_count": 37,
      "outputs": [
        {
          "output_type": "stream",
          "name": "stdout",
          "text": [
            "[[1 2]\n",
            " [9 9]\n",
            " [5 6]]\n"
          ]
        }
      ]
    },
    {
      "cell_type": "code",
      "source": [],
      "metadata": {
        "id": "f6gj-PXTmr0m"
      },
      "execution_count": null,
      "outputs": []
    }
  ]
}